{
 "cells": [
  {
   "cell_type": "code",
   "execution_count": 1,
   "id": "8c6997a0",
   "metadata": {},
   "outputs": [],
   "source": [
    "import numpy as np\n",
    "import pandas as p"
   ]
  },
  {
   "cell_type": "code",
   "execution_count": 7,
   "id": "19d4ebe0",
   "metadata": {},
   "outputs": [
    {
     "name": "stdout",
     "output_type": "stream",
     "text": [
      "    Unnamed: 0   Outlook  Temp Humidity    Wind Decision\n",
      "0            0     Sunny   Hot     High    Wind       No\n",
      "1            1     Sunny   Hot     High  Strong       No\n",
      "2            2  Overcast   Hot     High    Weak      Yes\n",
      "3            3     Rainy  Mild     High    Weak      Yes\n",
      "4            4     Rainy  Cold   Normal    Weak      Yes\n",
      "5            5     Rainy  Cold   Normal  Strong      Yes\n",
      "6            6  Overcast  Cold   Normal  Strong      Yes\n",
      "7            7     Sunny  Mild     High    Weak       No\n",
      "8            8     Sunny  Cold   Normal    Weak      Yes\n",
      "9            9     Rainy  Mild   Normal    Weak      Yes\n",
      "10          10     Sunny  Mild   Normal  Strong      Yes\n",
      "11          11  Overcast  Mild     High  Strong      Yes\n",
      "12          12  Overcast   Hot   Normal    Weak      Yes\n",
      "13          13     Rainy  Mild     High  Strong       No\n"
     ]
    }
   ],
   "source": [
    "key={'Outlook':['Sunny','Sunny','Overcast','Rainy','Rainy','Rainy','Overcast','Sunny','Sunny','Rainy','Sunny','Overcast','Overcast','Rainy'],\n",
    "    'Temp':['Hot','Hot','Hot','Mild','Cold','Cold','Cold','Mild','Cold','Mild','Mild','Mild','Hot','Mild'],\n",
    "    'Humidity':['High','High','High','High','Normal','Normal','Normal','High','Normal','Normal','Normal','High','Normal','High'],\n",
    "    'Wind':['Wind','Strong','Weak','Weak','Weak','Strong','Strong','Weak','Weak','Weak','Strong','Strong','Weak','Strong'],\n",
    "    'Decision':['No','No','Yes','Yes','Yes','Yes','Yes','No','Yes','Yes','Yes','Yes','Yes','No']}\n",
    "\n",
    "d=p.DataFrame(key)\n",
    "d.to_csv('lab3.csv')\n",
    "d2=p.read_csv('lab3.csv')\n",
    "print(d2)"
   ]
  },
  {
   "cell_type": "code",
   "execution_count": 12,
   "id": "d3118a03",
   "metadata": {},
   "outputs": [
    {
     "name": "stdout",
     "output_type": "stream",
     "text": [
      "0.8631205685666311\n"
     ]
    }
   ],
   "source": [
    "import math as mt\n",
    "\n",
    "def entropy(a,b):\n",
    "    if(a==0 or b==0):\n",
    "        return 0\n",
    "    return -(a+b)*(a/(a+b)*mt.log(a/(a+b),2)+b/(a+b)*mt.log(b/(a+b),2))/14\n",
    "\n",
    "list=d2.values\n",
    "yes=0\n",
    "no=0\n",
    "for i in range(len(list)):\n",
    "    if(list[i][5]=='Yes'):\n",
    "        yes+=1\n",
    "    if(list[i][5]=='No'):\n",
    "        no+=1\n",
    "IG=entropy(yes,no)\n",
    "print(IG)"
   ]
  },
  {
   "cell_type": "code",
   "execution_count": 14,
   "id": "86968c6c",
   "metadata": {},
   "outputs": [
    {
     "name": "stdout",
     "output_type": "stream",
     "text": [
      "0.6045995319078682\n"
     ]
    }
   ],
   "source": [
    "list=d2.values\n",
    "sunnyYes=0\n",
    "sunnyNo=0\n",
    "rainyYes=0\n",
    "rainyNo=0\n",
    "overcastYes=0\n",
    "overcastNo=0\n",
    "for i in range(len(list)):\n",
    "    if(list[i][1]=='Sunny' and list[i][5]=='Yes'):\n",
    "        sunnyYes+=1;\n",
    "    if(list[i][1]=='Sunny' and list[i][5]=='No'):\n",
    "        sunnyNo+=1;\n",
    "    if(list[i][1]=='Rainy' and list[i][5]=='Yes'):\n",
    "        rainyYes+=1;\n",
    "    if(list[i][1]=='Rainy' and list[i][5]=='No'):\n",
    "        rainyNo+=1;\n",
    "    if(list[i][1]=='Overcast' and list[i][5]=='Yes'):\n",
    "        overcastYes+=1;\n",
    "    if(list[i][1]=='Overcast' and list[i][5]=='No'):\n",
    "        overcastNo+=1;\n",
    "\n",
    "\n",
    "Is=entropy(sunnyYes,sunnyNo);\n",
    "Ir=entropy(rainyYes,rainyNo);\n",
    "Io=entropy(overcastYes,overcastNo);\n",
    "Eoutlook=Is+Ir+Io;\n",
    "print(Eoutlook)"
   ]
  },
  {
   "cell_type": "code",
   "execution_count": 15,
   "id": "c380c4ba",
   "metadata": {},
   "outputs": [
    {
     "name": "stdout",
     "output_type": "stream",
     "text": [
      "0.6792696431662097\n"
     ]
    }
   ],
   "source": [
    "hotYes=0\n",
    "hotNo=0\n",
    "coldYes=0\n",
    "coldNo=0\n",
    "midYes=0\n",
    "midNo=0\n",
    "for i in range(len(list)):\n",
    "    if(list[i][2]=='Hot' and list[i][5]=='Yes'):\n",
    "        hotYes+=1;\n",
    "    if(list[i][2]=='Hot' and list[i][5]=='No'):\n",
    "        hotNo+=1;\n",
    "    if(list[i][2]=='Cold' and list[i][5]=='Yes'):\n",
    "        coldYes+=1;\n",
    "    if(list[i][2]=='Cold' and list[i][5]=='No'):\n",
    "        coldNo+=1;\n",
    "    if(list[i][2]=='Mild' and list[i][5]=='Yes'):\n",
    "        midYes+=1;\n",
    "    if(list[i][2]=='Mild' and list[i][5]=='No'):\n",
    "        midNo+=1;\n",
    "\n",
    "\n",
    "Ih=entropy(hotYes,hotNo);\n",
    "Ic=entropy(coldYes,coldNo);\n",
    "Im=entropy(midYes,midNo);\n",
    "ETemp=Ih+Ic+Im;\n",
    "print(ETemp)"
   ]
  },
  {
   "cell_type": "code",
   "execution_count": 16,
   "id": "b0fa2a46",
   "metadata": {},
   "outputs": [
    {
     "name": "stdout",
     "output_type": "stream",
     "text": [
      "0.4926140680171258\n"
     ]
    }
   ],
   "source": [
    "normalYes=0\n",
    "normalNo=0\n",
    "highYes=0\n",
    "highNo=0\n",
    "for i in range(len(list)):\n",
    "    if(list[i][3]=='Normal' and list[i][5]=='Yes'):\n",
    "        normalYes+=1;\n",
    "    if(list[i][3]=='Normal' and list[i][5]=='No'):\n",
    "        normalNo+=1;\n",
    "    if(list[i][3]=='High' and list[i][5]=='Yes'):\n",
    "        highYes+=1;\n",
    "    if(list[i][3]=='High' and list[i][5]=='No'):\n",
    "        highNo+=1;\n",
    "\n",
    "\n",
    "Inor=entropy(normalYes,normalNo);\n",
    "Ihigh=entropy(highYes,highNo);\n",
    "EHumidity=Inor+Ihigh;\n",
    "print(EHumidity)"
   ]
  },
  {
   "cell_type": "code",
   "execution_count": 17,
   "id": "f7cd2668",
   "metadata": {},
   "outputs": [
    {
     "name": "stdout",
     "output_type": "stream",
     "text": [
      "0.29583638929116374\n"
     ]
    }
   ],
   "source": [
    "weakYes=0\n",
    "weakNo=0\n",
    "strongYes=0\n",
    "strongNo=0\n",
    "for i in range(len(list)):\n",
    "    if(list[i][4]=='Weak' and list[i][5]=='Yes'):\n",
    "        weakYes+=1;\n",
    "    if(list[i][4]=='Weak' and list[i][5]=='No'):\n",
    "        weakNo+=1;\n",
    "    if(list[i][4]=='Strong' and list[i][5]=='Yes'):\n",
    "        strongYes+=1;\n",
    "    if(list[i][4]=='Strong' and list[i][5]=='No'):\n",
    "        strongYes+=1;  \n",
    "    \n",
    "\n",
    "\n",
    "Iweak=entropy(weakYes,weakNo);\n",
    "Istrong=entropy(strongYes,strongNo);\n",
    "Ewind=Iweak+Istrong;\n",
    "print(Ewind)"
   ]
  },
  {
   "cell_type": "code",
   "execution_count": 20,
   "id": "390941aa",
   "metadata": {},
   "outputs": [
    {
     "name": "stdout",
     "output_type": "stream",
     "text": [
      "Most Informative Attributes is Humidity\n"
     ]
    }
   ],
   "source": [
    "ans = [[\"Wind\",Ewind],[\"Humidity\",EHumidity],[\"Temp\",ETemp],[\"Outlook\",Eoutlook]]\n",
    "ans.sort()\n",
    "print(\"Most Informative Attributes is\",ans[0][0])"
   ]
  },
  {
   "cell_type": "code",
   "execution_count": null,
   "id": "19eb3e9d",
   "metadata": {},
   "outputs": [],
   "source": []
  }
 ],
 "metadata": {
  "kernelspec": {
   "display_name": "Python 3 (ipykernel)",
   "language": "python",
   "name": "python3"
  },
  "language_info": {
   "codemirror_mode": {
    "name": "ipython",
    "version": 3
   },
   "file_extension": ".py",
   "mimetype": "text/x-python",
   "name": "python",
   "nbconvert_exporter": "python",
   "pygments_lexer": "ipython3",
   "version": "3.9.7"
  }
 },
 "nbformat": 4,
 "nbformat_minor": 5
}

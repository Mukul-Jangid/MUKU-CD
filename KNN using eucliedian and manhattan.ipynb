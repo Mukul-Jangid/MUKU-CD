{
 "cells": [
  {
   "cell_type": "code",
   "execution_count": 22,
   "id": "88420be2",
   "metadata": {},
   "outputs": [
    {
     "name": "stdout",
     "output_type": "stream",
     "text": [
      "     0    1   2\n",
      "0  1.0  1.0  c1\n",
      "1  2.0  1.5  c1\n",
      "2  1.5  1.5  c1\n",
      "3  4.0  1.0  c2\n",
      "4  4.5  1.0  c2\n"
     ]
    }
   ],
   "source": [
    "import numpy as np\n",
    "import pandas as p\n",
    "data = [[1,1,'c1'],[2,1.5,'c1'],[1.5,1.5,'c1'],[ 4,1,'c2'],[4.5,1,'c2']]\n",
    "d1 = p.DataFrame(data);\n",
    "print(d1)"
   ]
  },
  {
   "cell_type": "code",
   "execution_count": 23,
   "id": "17c1cb27",
   "metadata": {},
   "outputs": [
    {
     "name": "stdout",
     "output_type": "stream",
     "text": [
      "   Unnamed: 0    0    1   2\n",
      "0           0  1.0  1.0  c1\n",
      "1           1  2.0  1.5  c1\n",
      "2           2  1.5  1.5  c1\n",
      "3           3  4.0  1.0  c2\n",
      "4           4  4.5  1.0  c2\n"
     ]
    }
   ],
   "source": [
    "d1.to_csv('lab4.csv')\n",
    "d2 = p.read_csv('lab4.csv')\n",
    "print(d2)"
   ]
  },
  {
   "cell_type": "code",
   "execution_count": 24,
   "id": "c5118429",
   "metadata": {},
   "outputs": [
    {
     "name": "stdout",
     "output_type": "stream",
     "text": [
      "[[0 1.0 1.0 'c1']\n",
      " [1 2.0 1.5 'c1']\n",
      " [2 1.5 1.5 'c1']\n",
      " [3 4.0 1.0 'c2']\n",
      " [4 4.5 1.0 'c2']]\n"
     ]
    }
   ],
   "source": [
    "list =  d2.values\n",
    "print(list)"
   ]
  },
  {
   "cell_type": "code",
   "execution_count": 25,
   "id": "9dd5eb95",
   "metadata": {},
   "outputs": [],
   "source": [
    "import math as mt\n",
    "X = [2.5,1]\n",
    "l=[]\n",
    "for i in range(len(list)):\n",
    "    x1 = list[i][1]\n",
    "    y1 = list[i][2]\n",
    "    l.append([mt.sqrt( (X[0] - x1) * (X[0] - x1) + (X[1] - y1) * (X[1] - y1)),list[i][3]])\n",
    "    l.sort()"
   ]
  },
  {
   "cell_type": "code",
   "execution_count": 26,
   "id": "5dde001d",
   "metadata": {},
   "outputs": [
    {
     "name": "stdout",
     "output_type": "stream",
     "text": [
      "New point will be in class C1\n"
     ]
    }
   ],
   "source": [
    "c1=0\n",
    "c2=0\n",
    "for i in range(3):\n",
    "    if(l[i][1]=='c1'):\n",
    "        c1+=1\n",
    "    if(l[i][1]=='c2'):\n",
    "        c2+=1\n",
    "if(c1>c2):\n",
    "    print(\"New point will be in class C1\")\n",
    "else:\n",
    "    print(\"New point will be in class C2\")"
   ]
  },
  {
   "cell_type": "code",
   "execution_count": 27,
   "id": "79cc21dd",
   "metadata": {},
   "outputs": [],
   "source": [
    "# CITY BLOCK METHOD or MANHATTAN\n",
    "\n",
    "l2=[]\n",
    "for i in range(len(list)):\n",
    "    x1 = list[i][1]\n",
    "    y1 = list[i][2]\n",
    "    l2.append([ abs(x1- X[0]) + abs(y1 - X[1]),list[i][3]])\n",
    "    l2.sort()"
   ]
  },
  {
   "cell_type": "code",
   "execution_count": 28,
   "id": "abab33f6",
   "metadata": {},
   "outputs": [
    {
     "name": "stdout",
     "output_type": "stream",
     "text": [
      "New point will be in class C1\n"
     ]
    }
   ],
   "source": [
    "c1=0\n",
    "c2=0\n",
    "for i in range(3):\n",
    "    if(l2[i][1]=='c1'):\n",
    "        c1+=1\n",
    "    if(l2[i][1]=='c2'):\n",
    "        c2+=1\n",
    "if(c1>c2):\n",
    "    print(\"New point will be in class C1\")\n",
    "else:\n",
    "    print(\"New point will be in class C2\")       "
   ]
  },
  {
   "cell_type": "code",
   "execution_count": null,
   "id": "d340cceb",
   "metadata": {},
   "outputs": [],
   "source": []
  }
 ],
 "metadata": {
  "kernelspec": {
   "display_name": "Python 3 (ipykernel)",
   "language": "python",
   "name": "python3"
  },
  "language_info": {
   "codemirror_mode": {
    "name": "ipython",
    "version": 3
   },
   "file_extension": ".py",
   "mimetype": "text/x-python",
   "name": "python",
   "nbconvert_exporter": "python",
   "pygments_lexer": "ipython3",
   "version": "3.9.7"
  }
 },
 "nbformat": 4,
 "nbformat_minor": 5
}

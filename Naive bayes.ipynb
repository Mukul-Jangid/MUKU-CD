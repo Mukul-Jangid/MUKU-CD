{
 "cells": [
  {
   "cell_type": "code",
   "execution_count": 5,
   "id": "02f5cbb3",
   "metadata": {},
   "outputs": [],
   "source": [
    "import numpy as np\n",
    "import pandas as p"
   ]
  },
  {
   "cell_type": "code",
   "execution_count": 6,
   "id": "c17aa77d",
   "metadata": {},
   "outputs": [
    {
     "data": {
      "text/html": [
       "<div>\n",
       "<style scoped>\n",
       "    .dataframe tbody tr th:only-of-type {\n",
       "        vertical-align: middle;\n",
       "    }\n",
       "\n",
       "    .dataframe tbody tr th {\n",
       "        vertical-align: top;\n",
       "    }\n",
       "\n",
       "    .dataframe thead th {\n",
       "        text-align: right;\n",
       "    }\n",
       "</style>\n",
       "<table border=\"1\" class=\"dataframe\">\n",
       "  <thead>\n",
       "    <tr style=\"text-align: right;\">\n",
       "      <th></th>\n",
       "      <th>MATERIAL</th>\n",
       "      <th>WEIGHT</th>\n",
       "      <th>COST</th>\n",
       "      <th>CLASS</th>\n",
       "    </tr>\n",
       "  </thead>\n",
       "  <tbody>\n",
       "    <tr>\n",
       "      <th>0</th>\n",
       "      <td>WOOL</td>\n",
       "      <td>LIGHT</td>\n",
       "      <td>HIGH</td>\n",
       "      <td>WINTER DRESS</td>\n",
       "    </tr>\n",
       "    <tr>\n",
       "      <th>1</th>\n",
       "      <td>WOOL</td>\n",
       "      <td>HEAVY</td>\n",
       "      <td>LOW</td>\n",
       "      <td>WINTER DRESS</td>\n",
       "    </tr>\n",
       "    <tr>\n",
       "      <th>2</th>\n",
       "      <td>COTTON</td>\n",
       "      <td>HEAVY</td>\n",
       "      <td>LOW</td>\n",
       "      <td>WINTER DRESS</td>\n",
       "    </tr>\n",
       "    <tr>\n",
       "      <th>3</th>\n",
       "      <td>JUTE</td>\n",
       "      <td>HEAVY</td>\n",
       "      <td>LOW</td>\n",
       "      <td>WINTER DRESS</td>\n",
       "    </tr>\n",
       "    <tr>\n",
       "      <th>4</th>\n",
       "      <td>COTTON</td>\n",
       "      <td>LIGHT</td>\n",
       "      <td>LOW</td>\n",
       "      <td>SUMMER DRESS</td>\n",
       "    </tr>\n",
       "    <tr>\n",
       "      <th>5</th>\n",
       "      <td>COTTON</td>\n",
       "      <td>LIGHT</td>\n",
       "      <td>HIGH</td>\n",
       "      <td>SUMMER DRESS</td>\n",
       "    </tr>\n",
       "    <tr>\n",
       "      <th>6</th>\n",
       "      <td>COTTON</td>\n",
       "      <td>HEAVY</td>\n",
       "      <td>LOW</td>\n",
       "      <td>SUMMER DRESS</td>\n",
       "    </tr>\n",
       "    <tr>\n",
       "      <th>7</th>\n",
       "      <td>COTTON</td>\n",
       "      <td>HEAVY</td>\n",
       "      <td>MEDIUM</td>\n",
       "      <td>SUMMER DRESS</td>\n",
       "    </tr>\n",
       "    <tr>\n",
       "      <th>8</th>\n",
       "      <td>JUTE</td>\n",
       "      <td>LIGHT</td>\n",
       "      <td>MEDIUM</td>\n",
       "      <td>SUMMER DRESS</td>\n",
       "    </tr>\n",
       "  </tbody>\n",
       "</table>\n",
       "</div>"
      ],
      "text/plain": [
       "  MATERIAL WEIGHT    COST         CLASS\n",
       "0     WOOL  LIGHT    HIGH  WINTER DRESS\n",
       "1     WOOL  HEAVY     LOW  WINTER DRESS\n",
       "2   COTTON  HEAVY     LOW  WINTER DRESS\n",
       "3     JUTE  HEAVY     LOW  WINTER DRESS\n",
       "4   COTTON  LIGHT     LOW  SUMMER DRESS\n",
       "5   COTTON  LIGHT    HIGH  SUMMER DRESS\n",
       "6   COTTON  HEAVY     LOW  SUMMER DRESS\n",
       "7   COTTON  HEAVY  MEDIUM  SUMMER DRESS\n",
       "8     JUTE  LIGHT  MEDIUM  SUMMER DRESS"
      ]
     },
     "execution_count": 6,
     "metadata": {},
     "output_type": "execute_result"
    }
   ],
   "source": [
    "d1 = p.DataFrame({'MATERIAL' : ['WOOL','WOOL','COTTON','JUTE','COTTON','COTTON','COTTON','COTTON','JUTE'], 'WEIGHT' : ['LIGHT','HEAVY','HEAVY','HEAVY','LIGHT','LIGHT','HEAVY','HEAVY','LIGHT'] , 'COST' :['HIGH','LOW','LOW','LOW','LOW','HIGH','LOW','MEDIUM','MEDIUM'],'CLASS':['WINTER DRESS','WINTER DRESS','WINTER DRESS','WINTER DRESS','SUMMER DRESS','SUMMER DRESS','SUMMER DRESS','SUMMER DRESS','SUMMER DRESS']})\n",
    "d1"
   ]
  },
  {
   "cell_type": "code",
   "execution_count": 7,
   "id": "c8104a09",
   "metadata": {},
   "outputs": [
    {
     "data": {
      "text/html": [
       "<div>\n",
       "<style scoped>\n",
       "    .dataframe tbody tr th:only-of-type {\n",
       "        vertical-align: middle;\n",
       "    }\n",
       "\n",
       "    .dataframe tbody tr th {\n",
       "        vertical-align: top;\n",
       "    }\n",
       "\n",
       "    .dataframe thead th {\n",
       "        text-align: right;\n",
       "    }\n",
       "</style>\n",
       "<table border=\"1\" class=\"dataframe\">\n",
       "  <thead>\n",
       "    <tr style=\"text-align: right;\">\n",
       "      <th></th>\n",
       "      <th>Unnamed: 0</th>\n",
       "      <th>MATERIAL</th>\n",
       "      <th>WEIGHT</th>\n",
       "      <th>COST</th>\n",
       "      <th>CLASS</th>\n",
       "    </tr>\n",
       "  </thead>\n",
       "  <tbody>\n",
       "    <tr>\n",
       "      <th>0</th>\n",
       "      <td>0</td>\n",
       "      <td>WOOL</td>\n",
       "      <td>LIGHT</td>\n",
       "      <td>HIGH</td>\n",
       "      <td>WINTER DRESS</td>\n",
       "    </tr>\n",
       "    <tr>\n",
       "      <th>1</th>\n",
       "      <td>1</td>\n",
       "      <td>WOOL</td>\n",
       "      <td>HEAVY</td>\n",
       "      <td>LOW</td>\n",
       "      <td>WINTER DRESS</td>\n",
       "    </tr>\n",
       "    <tr>\n",
       "      <th>2</th>\n",
       "      <td>2</td>\n",
       "      <td>COTTON</td>\n",
       "      <td>HEAVY</td>\n",
       "      <td>LOW</td>\n",
       "      <td>WINTER DRESS</td>\n",
       "    </tr>\n",
       "    <tr>\n",
       "      <th>3</th>\n",
       "      <td>3</td>\n",
       "      <td>JUTE</td>\n",
       "      <td>HEAVY</td>\n",
       "      <td>LOW</td>\n",
       "      <td>WINTER DRESS</td>\n",
       "    </tr>\n",
       "    <tr>\n",
       "      <th>4</th>\n",
       "      <td>4</td>\n",
       "      <td>COTTON</td>\n",
       "      <td>LIGHT</td>\n",
       "      <td>LOW</td>\n",
       "      <td>SUMMER DRESS</td>\n",
       "    </tr>\n",
       "    <tr>\n",
       "      <th>5</th>\n",
       "      <td>5</td>\n",
       "      <td>COTTON</td>\n",
       "      <td>LIGHT</td>\n",
       "      <td>HIGH</td>\n",
       "      <td>SUMMER DRESS</td>\n",
       "    </tr>\n",
       "    <tr>\n",
       "      <th>6</th>\n",
       "      <td>6</td>\n",
       "      <td>COTTON</td>\n",
       "      <td>HEAVY</td>\n",
       "      <td>LOW</td>\n",
       "      <td>SUMMER DRESS</td>\n",
       "    </tr>\n",
       "    <tr>\n",
       "      <th>7</th>\n",
       "      <td>7</td>\n",
       "      <td>COTTON</td>\n",
       "      <td>HEAVY</td>\n",
       "      <td>MEDIUM</td>\n",
       "      <td>SUMMER DRESS</td>\n",
       "    </tr>\n",
       "    <tr>\n",
       "      <th>8</th>\n",
       "      <td>8</td>\n",
       "      <td>JUTE</td>\n",
       "      <td>LIGHT</td>\n",
       "      <td>MEDIUM</td>\n",
       "      <td>SUMMER DRESS</td>\n",
       "    </tr>\n",
       "  </tbody>\n",
       "</table>\n",
       "</div>"
      ],
      "text/plain": [
       "   Unnamed: 0 MATERIAL WEIGHT    COST         CLASS\n",
       "0           0     WOOL  LIGHT    HIGH  WINTER DRESS\n",
       "1           1     WOOL  HEAVY     LOW  WINTER DRESS\n",
       "2           2   COTTON  HEAVY     LOW  WINTER DRESS\n",
       "3           3     JUTE  HEAVY     LOW  WINTER DRESS\n",
       "4           4   COTTON  LIGHT     LOW  SUMMER DRESS\n",
       "5           5   COTTON  LIGHT    HIGH  SUMMER DRESS\n",
       "6           6   COTTON  HEAVY     LOW  SUMMER DRESS\n",
       "7           7   COTTON  HEAVY  MEDIUM  SUMMER DRESS\n",
       "8           8     JUTE  LIGHT  MEDIUM  SUMMER DRESS"
      ]
     },
     "execution_count": 7,
     "metadata": {},
     "output_type": "execute_result"
    }
   ],
   "source": [
    "d1.to_csv('lab2.csv')\n",
    "data = p.read_csv('lab2.csv')\n",
    "data"
   ]
  },
  {
   "cell_type": "code",
   "execution_count": 8,
   "id": "ceb5cc73",
   "metadata": {},
   "outputs": [
    {
     "name": "stdout",
     "output_type": "stream",
     "text": [
      "CLASS\n",
      "SUMMER DRESS    0.555556\n",
      "WINTER DRESS    0.444444\n",
      "dtype: float64\n"
     ]
    }
   ],
   "source": [
    "prior = data.groupby('CLASS').size().div(len(data))\n",
    "print(prior)"
   ]
  },
  {
   "cell_type": "code",
   "execution_count": 10,
   "id": "707afd0c",
   "metadata": {},
   "outputs": [
    {
     "name": "stdout",
     "output_type": "stream",
     "text": [
      "CLASS         MATERIAL\n",
      "SUMMER DRESS  COTTON      0.80\n",
      "              JUTE        0.20\n",
      "WINTER DRESS  COTTON      0.25\n",
      "              JUTE        0.25\n",
      "              WOOL        0.50\n",
      "dtype: float64\n"
     ]
    }
   ],
   "source": [
    "likelihood = {}\n",
    "likelihood['MATERIAL'] = data.groupby(['CLASS', 'MATERIAL']).size().div(len(data)).div(prior)\n",
    "print (likelihood['MATERIAL'])\n"
   ]
  },
  {
   "cell_type": "code",
   "execution_count": 19,
   "id": "50a77544",
   "metadata": {},
   "outputs": [
    {
     "name": "stdout",
     "output_type": "stream",
     "text": [
      "CLASS         WEIGHT\n",
      "SUMMER DRESS  HEAVY     0.40\n",
      "              LIGHT     0.60\n",
      "WINTER DRESS  HEAVY     0.75\n",
      "              LIGHT     0.25\n",
      "dtype: float64\n"
     ]
    }
   ],
   "source": [
    "likelihood['WEIGHT'] = data.groupby(['CLASS', 'WEIGHT']).size().div(len(data)).div(prior)\n",
    "print (likelihood['WEIGHT'])\n"
   ]
  },
  {
   "cell_type": "code",
   "execution_count": 20,
   "id": "acc7251c",
   "metadata": {},
   "outputs": [
    {
     "name": "stdout",
     "output_type": "stream",
     "text": [
      "CLASS         COST  \n",
      "SUMMER DRESS  HIGH      0.20\n",
      "              LOW       0.40\n",
      "              MEDIUM    0.40\n",
      "WINTER DRESS  HIGH      0.25\n",
      "              LOW       0.75\n",
      "dtype: float64\n"
     ]
    }
   ],
   "source": [
    "likelihood['COST'] = data.groupby(['CLASS', 'COST']).size().div(len(data)).div(prior)\n",
    "print (likelihood['COST'])\n"
   ]
  },
  {
   "cell_type": "code",
   "execution_count": 30,
   "id": "a2de62b7",
   "metadata": {},
   "outputs": [
    {
     "name": "stdout",
     "output_type": "stream",
     "text": [
      "WinterDress :  0.020833333333333332\n"
     ]
    }
   ],
   "source": [
    "WinterD = likelihood['MATERIAL']['WINTER DRESS']['JUTE'] * likelihood['WEIGHT']['WINTER DRESS']['LIGHT'] *  likelihood['COST']['WINTER DRESS']['LOW'] * prior['WINTER DRESS']\n",
    "print ('WinterDress : ', WinterD)\n"
   ]
  },
  {
   "cell_type": "code",
   "execution_count": 31,
   "id": "17105d4b",
   "metadata": {},
   "outputs": [
    {
     "name": "stdout",
     "output_type": "stream",
     "text": [
      "SummerDress :  0.02666666666666666\n"
     ]
    }
   ],
   "source": [
    "SummerD = likelihood['MATERIAL']['SUMMER DRESS']['JUTE'] * likelihood['WEIGHT']['SUMMER DRESS']['LIGHT'] *  likelihood['COST']['SUMMER DRESS']['LOW'] * prior['SUMMER DRESS']\n",
    "print ('SummerDress : ', SummerD)\n"
   ]
  },
  {
   "cell_type": "code",
   "execution_count": 32,
   "id": "05ee2a90",
   "metadata": {},
   "outputs": [
    {
     "name": "stdout",
     "output_type": "stream",
     "text": [
      "Higher probability person will wear Summer Dress\n"
     ]
    }
   ],
   "source": [
    "if(SummerD > WinterD):\n",
    "    print(\"Higher probability person will wear Summer Dress\")\n",
    "else:\n",
    "    print(\"Higher probability person will wear Winter Dress\")"
   ]
  },
  {
   "cell_type": "code",
   "execution_count": null,
   "id": "fdbdf971",
   "metadata": {},
   "outputs": [],
   "source": []
  }
 ],
 "metadata": {
  "kernelspec": {
   "display_name": "Python 3 (ipykernel)",
   "language": "python",
   "name": "python3"
  },
  "language_info": {
   "codemirror_mode": {
    "name": "ipython",
    "version": 3
   },
   "file_extension": ".py",
   "mimetype": "text/x-python",
   "name": "python",
   "nbconvert_exporter": "python",
   "pygments_lexer": "ipython3",
   "version": "3.9.7"
  }
 },
 "nbformat": 4,
 "nbformat_minor": 5
}
